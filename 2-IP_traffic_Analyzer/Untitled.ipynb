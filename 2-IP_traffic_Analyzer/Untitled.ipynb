{
 "cells": [
  {
   "cell_type": "code",
   "execution_count": null,
   "metadata": {},
   "outputs": [],
   "source": []
  },
  {
   "cell_type": "markdown",
   "metadata": {},
   "source": [
    "#### The challenge on kaggle.com is described as below:\n",
    "Context\n",
    "\n",
    "Computer Network Traffic Data - A ~500K CSV with summary of some real network traffic data from the past. The dataset has ~21K rows and covers 10 local workstation IPs over a three month period. Half of these local IPs were compromised at some point during this period and became members of various botnets.\n",
    "\n",
    "Content\n",
    "\n",
    "Each row consists of four columns:\n",
    "\n",
    "date: yyyy-mm-dd (from 2006-07-01 through 2006-09-30)\n",
    "l_ipn: local IP (coded as an integer from 0-9)\n",
    "r_asn: remote ASN (an integer which identifies the remote ISP)\n",
    "f: flows (count of connnections for that day)\n",
    "Reports of \"odd\" activity or suspicions about a machine's behavior triggered investigations on the following days (although the machine might have been compromised earlier)\n",
    "\n",
    "Date : IP 08-24 : 1 09-04 : 5 09-18 : 4 09-26 : 3 6\n",
    "\n",
    "Acknowledgements\n",
    "\n",
    "This public dataset was found on http://statweb.stanford.edu/~sabatti/data.html\n",
    "\n",
    "Inspiration\n",
    "\n",
    "Can you discover when a compromise has occurred by a change in the pattern of communication?\n"
   ]
  },
  {
   "cell_type": "code",
   "execution_count": null,
   "metadata": {},
   "outputs": [],
   "source": []
  }
 ],
 "metadata": {
  "kernelspec": {
   "display_name": "Python 3",
   "language": "python",
   "name": "python3"
  },
  "language_info": {
   "codemirror_mode": {
    "name": "ipython",
    "version": 3
   },
   "file_extension": ".py",
   "mimetype": "text/x-python",
   "name": "python",
   "nbconvert_exporter": "python",
   "pygments_lexer": "ipython3",
   "version": "3.7.1"
  }
 },
 "nbformat": 4,
 "nbformat_minor": 2
}
